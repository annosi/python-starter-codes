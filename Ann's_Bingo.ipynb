{
  "nbformat": 4,
  "nbformat_minor": 0,
  "metadata": {
    "colab": {
      "name": "Ann's Bingo.ipynb",
      "provenance": [],
      "authorship_tag": "ABX9TyPFkrPbRZGKyrGKW10JGZxI",
      "include_colab_link": true
    },
    "kernelspec": {
      "name": "python3",
      "display_name": "Python 3"
    },
    "language_info": {
      "name": "python"
    }
  },
  "cells": [
    {
      "cell_type": "markdown",
      "metadata": {
        "id": "view-in-github",
        "colab_type": "text"
      },
      "source": [
        "<a href=\"https://colab.research.google.com/github/annosi/python-starter-codes/blob/main/Ann's_Bingo.ipynb\" target=\"_parent\"><img src=\"https://colab.research.google.com/assets/colab-badge.svg\" alt=\"Open In Colab\"/></a>"
      ]
    },
    {
      "cell_type": "markdown",
      "metadata": {
        "id": "WB64n3LyWsoa"
      },
      "source": [
        "**ANN'S BINGO GAME**\n",
        "\n",
        "Pick 6 numbers between 1 and 30. If it matches the bingo numbers, you win. If it doesnt, you lose."
      ]
    },
    {
      "cell_type": "markdown",
      "metadata": {
        "id": "_Tw5ZsQi8zLM"
      },
      "source": [
        "Hello my coder friends. You are here because I've asked you to validate my game.\n",
        "\n",
        "Reviewers:\n",
        "\n",
        "1) Muheez Adewale, 2) Ikenna Osi, 3) Friday Godswill, 4) Valentine Oleka, 5) Haniel Nkadi, 6) Chibuzor Nwalor\n",
        "\n",
        "Thanks my friends!!!\n",
        "\n",
        "**How to test my code**\n",
        "\n",
        "1) Bingo list must generate first\n",
        "2) User should only be able to generate numbers between 1 and 30\n",
        "3) User should not be able to generate text\n",
        "4) User should not be able to repeat numbers\n",
        "\n",
        "**THANKSSSSSSSSSSSSSS**\n",
        "\n",
        "*you can leave comments here or on whatsapp*"
      ]
    },
    {
      "cell_type": "code",
      "metadata": {
        "colab": {
          "base_uri": "https://localhost:8080/"
        },
        "id": "u9D4sIN6-RT7",
        "outputId": "ee15d1e1-1e1f-4bff-ad06-addbb3872872"
      },
      "source": [
        "#I imported random to generate the bingo list\n",
        "import random\n",
        "\n",
        "#The function below generates the bingo list that will be compared to the user's list.\n",
        "def func(bingo):\n",
        "  bingo = []\n",
        "  bingo_length = 20\n",
        "  while len(bingo)<bingo_length:            #this ensures that the bingo is made up of 6 integers between 1 and 30\n",
        "    b = random.randint(1,30)\n",
        "    if b not in bingo:                      #this ensures that there are no repeated numbers\n",
        "      bingo.append(b)\n",
        "  if len(bingo)==bingo_length:\n",
        "    print('This is bingo')\n",
        "    return bingo\n",
        "\n",
        "#The function below helps the user select his numbers\n",
        "def prog(user):\n",
        "  user = []\n",
        "  user_length = 6\n",
        "  while len(user)<user_length:                                                  #this ensures that the user selects only 6 numebrs\n",
        "    user_input = input('Enter whole number between 1 and 30: ')\n",
        "    try:\n",
        "      u = int(user_input)\n",
        "      if u>30 or u<1:                                                                #this ensures that the numbers are between 1 and 30\n",
        "        print('ERROR! Only numbers between 1 and 30 are allowed')\n",
        "        continue\n",
        "      if u in user:                                                             #this ensures that the user cannot repeat numbers\n",
        "        print('Repeated values not allowed')\n",
        "        continue\n",
        "      else:\n",
        "        user.append(u)\n",
        "      del_none = filter(None.__ne__, user)                                      #this ensures that the user's list does not contain None values\n",
        "      user=list(del_none)\n",
        "    except (ValueError, TypeError):                                             #this ensures that the user cannot enter non-numerical values\n",
        "      print('ERROR! Only numbers between 1 and 30 are allowed.')\n",
        "  print('This is your submission: ')\n",
        "  return user\n",
        "\n",
        "#Below is the final function to compare user selection with bingo\n",
        "def game(bingo,user):\n",
        "  answer = []\n",
        "  while True:                                                                   #this identifies the elements that are correct\n",
        "    for i in user:\n",
        "      if i in bingo:\n",
        "        answer.append(i)\n",
        "    if answer == user:\n",
        "      print('Congratulations!! This is Bingo!!!')\n",
        "      return user\n",
        "    else:\n",
        "      print('You suck, LOSER!!!')\n",
        "      print('However, you got these right')\n",
        "      return answer\n",
        "  return 'Thank you for playing! This game was made by Ann Osi, baddest bitch ever liveth'\n",
        "\n",
        "#Here's the simple code to play the game. Happy playing!!!\n",
        "a = []\n",
        "user = prog(a)\n",
        "print (user)\n",
        "b = []\n",
        "bingo = func(b)\n",
        "print(bingo)\n",
        "solution = game(bingo, user)\n",
        "print(solution)"
      ],
      "execution_count": null,
      "outputs": [
        {
          "output_type": "stream",
          "text": [
            "Enter whole number between 1 and 30: 9\n",
            "Enter whole number between 1 and 30: 2\n",
            "Enter whole number between 1 and 30: 4\n",
            "Enter whole number between 1 and 30: 29\n",
            "Enter whole number between 1 and 30: 22\n",
            "Enter whole number between 1 and 30: 18\n",
            "This is your submission: \n",
            "[9, 2, 4, 29, 22, 18]\n",
            "This is bingo\n",
            "[19, 24, 6, 13, 5, 29, 18, 26, 12, 1, 21, 9, 20, 2, 3, 25, 4, 11, 15, 8]\n",
            "You suck, LOSER!!!\n",
            "However, you got these right\n",
            "[9, 2, 4, 29, 18]\n"
          ],
          "name": "stdout"
        }
      ]
    },
    {
      "cell_type": "markdown",
      "metadata": {
        "id": "IY7Ub10cIfNP"
      },
      "source": [
        "**TASK**\n",
        "\n",
        "Repeat the above program but use sets"
      ]
    },
    {
      "cell_type": "code",
      "metadata": {
        "colab": {
          "base_uri": "https://localhost:8080/"
        },
        "id": "1FcppjQVImAI",
        "outputId": "a96b5b97-81af-4303-d7a6-64f4fe839c7a"
      },
      "source": [
        "import random\n",
        "def bingo():\n",
        "  bingo_set = set()\n",
        "  bingo_setlength = 20\n",
        "  while len(bingo_set)<bingo_setlength:\n",
        "    g = random.randint(1,30)\n",
        "    bingo_set.add(g)\n",
        "    if len(bingo_set)== bingo_setlength:\n",
        "      print(\"This is bingo\")\n",
        "      return bingo_set\n",
        "\n",
        "def player():\n",
        "  player = set()\n",
        "  player_length = 6\n",
        "  while len(player)<player_length:\n",
        "    player_input = input('Pick 6 numbers between 1 and 30: ')\n",
        "    try:\n",
        "      p = int(player_input)\n",
        "      if p>30 or p<1:\n",
        "        print('Only numbers between 1 and 30 allowed')\n",
        "        continue\n",
        "      if p in player:\n",
        "        print('You cannot repeat numbers')\n",
        "        continue\n",
        "      else:\n",
        "        player.add(p)\n",
        "    except (ValueError, TypeError):\n",
        "      print('Only numbers between 1 and 30 allowed')\n",
        "  print('This is your submission')\n",
        "  return player\n",
        "\n",
        "def output(player, game):\n",
        "  if player.issubset(game):\n",
        "    print('Congratulations!!! You got BINGO!!!!')\n",
        "    return player\n",
        "  else:\n",
        "    right = player & game\n",
        "    wrong = player - game\n",
        "    return print(f'''LOSER!!! However, you got these right {right} and you got these wrong {wrong}''')\n",
        "\n",
        "\n",
        "player = player()\n",
        "print(player)\n",
        "game = bingo()\n",
        "print(game)\n",
        "output = output(player, game)\n",
        "\n",
        "#lesson learned. no major difference between using sets and using lists for this problem. just two different methods of arriving at the same thing. sets is easy though, the final code\n"
      ],
      "execution_count": null,
      "outputs": [
        {
          "output_type": "stream",
          "text": [
            "Pick 6 numbers between 1 and 30: 2\n",
            "Pick 6 numbers between 1 and 30: 2\n",
            "You cannot repeat numbers\n",
            "Pick 6 numbers between 1 and 30: 4\n",
            "Pick 6 numbers between 1 and 30: 6\n",
            "Pick 6 numbers between 1 and 30: 8\n",
            "Pick 6 numbers between 1 and 30: 10\n",
            "Pick 6 numbers between 1 and 30: 12\n",
            "This is your submission\n",
            "{2, 4, 6, 8, 10, 12}\n",
            "This is bingo\n",
            "{1, 2, 3, 5, 6, 7, 10, 12, 14, 16, 17, 19, 21, 22, 24, 25, 27, 28, 29, 30}\n",
            "LOSER!!! However, you got these right {2, 10, 12, 6} and you got these wrong {8, 4}\n"
          ],
          "name": "stdout"
        }
      ]
    },
    {
      "cell_type": "code",
      "metadata": {
        "id": "bSLULyO_KcTX"
      },
      "source": [
        "1"
      ],
      "execution_count": null,
      "outputs": []
    }
  ]
}